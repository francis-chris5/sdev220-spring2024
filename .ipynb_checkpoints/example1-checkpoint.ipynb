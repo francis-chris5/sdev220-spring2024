{
 "cells": [
  {
   "cell_type": "code",
   "execution_count": 6,
   "id": "f9c382e4-0a3a-4021-ba9b-c1d7b6380241",
   "metadata": {},
   "outputs": [
    {
     "name": "stdout",
     "output_type": "stream",
     "text": [
      "hello world\n"
     ]
    }
   ],
   "source": [
    "print(\"hello world\")"
   ]
  },
  {
   "cell_type": "code",
   "execution_count": 7,
   "id": "4e056f7b-a8a4-48e3-bf2e-31ab73703012",
   "metadata": {},
   "outputs": [],
   "source": [
    "import os\n",
    "import sys"
   ]
  },
  {
   "cell_type": "code",
   "execution_count": null,
   "id": "5f1cce48-7cd3-4040-992a-f69ef702df0f",
   "metadata": {},
   "outputs": [],
   "source": []
  },
  {
   "cell_type": "code",
   "execution_count": 8,
   "id": "46423567-7297-4738-b384-3863b8f21eab",
   "metadata": {},
   "outputs": [
    {
     "name": "stdout",
     "output_type": "stream",
     "text": [
      "['C:\\\\Users\\\\franc\\\\Documents\\\\delete\\\\sdev220-spring2024', 'C:\\\\Users\\\\franc\\\\AppData\\\\Local\\\\Programs\\\\Python\\\\Python312\\\\python312.zip', 'C:\\\\Users\\\\franc\\\\AppData\\\\Local\\\\Programs\\\\Python\\\\Python312\\\\DLLs', 'C:\\\\Users\\\\franc\\\\AppData\\\\Local\\\\Programs\\\\Python\\\\Python312\\\\Lib', 'C:\\\\Users\\\\franc\\\\AppData\\\\Local\\\\Programs\\\\Python\\\\Python312', '', 'C:\\\\Users\\\\franc\\\\AppData\\\\Local\\\\Programs\\\\Python\\\\Python312\\\\Lib\\\\site-packages', 'C:\\\\Users\\\\franc\\\\AppData\\\\Local\\\\Programs\\\\Python\\\\Python312\\\\Lib\\\\site-packages\\\\win32', 'C:\\\\Users\\\\franc\\\\AppData\\\\Local\\\\Programs\\\\Python\\\\Python312\\\\Lib\\\\site-packages\\\\win32\\\\lib', 'C:\\\\Users\\\\franc\\\\AppData\\\\Local\\\\Programs\\\\Python\\\\Python312\\\\Lib\\\\site-packages\\\\Pythonwin']\n"
     ]
    }
   ],
   "source": [
    "print(sys.path)"
   ]
  },
  {
   "cell_type": "markdown",
   "id": "cefb9e96-9a30-454d-8319-f3f7d379af0b",
   "metadata": {},
   "source": [
    "this is a markdown cell"
   ]
  },
  {
   "cell_type": "markdown",
   "id": "8d9d77b0-a974-48ef-b1f8-dd46d52109e4",
   "metadata": {},
   "source": [
    "# MARKDOWN\n",
    "___\n",
    "this is formatted with markdown syntax\n",
    "github also accepts markdown syntax for readme's and wikis and FAQ"
   ]
  },
  {
   "cell_type": "markdown",
   "id": "88294a9f-cb53-4a69-a91d-15966e8df775",
   "metadata": {},
   "source": [
    "<h2>MARKDOWN</h2>\n",
    "<p>this is a markdown cell formatted with a markup language</p>\n",
    "<small>random words</small>"
   ]
  },
  {
   "cell_type": "code",
   "execution_count": 9,
   "id": "056cc790-ae33-4c38-a613-7dec8f35802a",
   "metadata": {},
   "outputs": [
    {
     "name": "stdout",
     "output_type": "stream",
     "text": [
      "here's another random example 🥇\n"
     ]
    }
   ],
   "source": [
    "import emoji\n",
    "print(emoji.emojize(\"here's another random example :1st_place_medal:\"))"
   ]
  },
  {
   "cell_type": "code",
   "execution_count": null,
   "id": "126757e1-8ce6-4b4f-a93c-07faae982079",
   "metadata": {},
   "outputs": [],
   "source": []
  },
  {
   "cell_type": "code",
   "execution_count": null,
   "id": "b0841b6a-9577-4577-bb22-cdcbf135e8ff",
   "metadata": {},
   "outputs": [],
   "source": []
  },
  {
   "cell_type": "code",
   "execution_count": 10,
   "id": "27c88cad-88c4-4137-af09-351ff6db98b3",
   "metadata": {},
   "outputs": [
    {
     "name": "stdout",
     "output_type": "stream",
     "text": [
      "that variable was a 3\n",
      "that variable was a 3\n"
     ]
    }
   ],
   "source": [
    "x = 3\n",
    "print(\"that variable was a \" + str(x)) #casting \n",
    "print(f\"that variable was a {x}\") #formatting style number 1"
   ]
  },
  {
   "cell_type": "code",
   "execution_count": null,
   "id": "2c855f5d-8451-4620-95fd-5cb3c00e1e59",
   "metadata": {},
   "outputs": [],
   "source": []
  },
  {
   "cell_type": "code",
   "execution_count": 11,
   "id": "6f699ba7-974b-46a2-a6ea-6936f7faaa6d",
   "metadata": {},
   "outputs": [
    {
     "name": "stdout",
     "output_type": "stream",
     "text": [
      "it might be a number then\" \t and a newline \n",
      " or maybe carriage return new line \n",
      " in the output\n"
     ]
    }
   ],
   "source": [
    "if isinstance(x, str):\n",
    "    print(\"it's a string\")\n",
    "elif isinstance(x, bool):\n",
    "    print(\"it's a boolean\")\n",
    "else:\n",
    "    print('it might be a number then\\\" \\t and a newline \\n or maybe carriage return new line \\r\\n in the output')"
   ]
  },
  {
   "cell_type": "code",
   "execution_count": null,
   "id": "705de2fe-cc81-4a14-a669-b4aab6923750",
   "metadata": {},
   "outputs": [],
   "source": []
  },
  {
   "cell_type": "code",
   "execution_count": 12,
   "id": "ccb67326-c224-42f6-af8a-2b1e9e06671c",
   "metadata": {},
   "outputs": [
    {
     "name": "stdout",
     "output_type": "stream",
     "text": [
      "0\n",
      "1\n",
      "2\n"
     ]
    }
   ],
   "source": [
    "count = 0\n",
    "while count < x:\n",
    "    print(count)\n",
    "    count += 1"
   ]
  },
  {
   "cell_type": "code",
   "execution_count": 13,
   "id": "932fdbbe-0f06-4743-8e3b-41c4ceacf9e4",
   "metadata": {},
   "outputs": [
    {
     "name": "stdout",
     "output_type": "stream",
     "text": [
      "0\n",
      "1\n",
      "2\n"
     ]
    }
   ],
   "source": [
    "for c in range(3):\n",
    "    print(c)"
   ]
  },
  {
   "cell_type": "code",
   "execution_count": null,
   "id": "726723a3-2a7c-4321-b380-3e3008e7cde1",
   "metadata": {},
   "outputs": [],
   "source": []
  }
 ],
 "metadata": {
  "kernelspec": {
   "display_name": "Python 3 (ipykernel)",
   "language": "python",
   "name": "python3"
  },
  "language_info": {
   "codemirror_mode": {
    "name": "ipython",
    "version": 3
   },
   "file_extension": ".py",
   "mimetype": "text/x-python",
   "name": "python",
   "nbconvert_exporter": "python",
   "pygments_lexer": "ipython3",
   "version": "3.12.1"
  }
 },
 "nbformat": 4,
 "nbformat_minor": 5
}
